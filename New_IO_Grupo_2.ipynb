{
  "nbformat": 4,
  "nbformat_minor": 0,
  "metadata": {
    "colab": {
      "provenance": [],
      "toc_visible": true,
      "authorship_tag": "ABX9TyP5oq1/ao5GheL8dFIglOjI",
      "include_colab_link": true
    },
    "kernelspec": {
      "name": "python3",
      "display_name": "Python 3"
    },
    "language_info": {
      "name": "python"
    }
  },
  "cells": [
    {
      "cell_type": "markdown",
      "metadata": {
        "id": "view-in-github",
        "colab_type": "text"
      },
      "source": [
        "<a href=\"https://colab.research.google.com/github/mildreth21/nex/blob/main/New_IO_Grupo_2.ipynb\" target=\"_parent\"><img src=\"https://colab.research.google.com/assets/colab-badge.svg\" alt=\"Open In Colab\"/></a>"
      ]
    },
    {
      "cell_type": "markdown",
      "source": [
        "#Esto es un titulo\n",
        "**hola**"
      ],
      "metadata": {
        "id": "1_sUK7-dVBFm"
      }
    },
    {
      "cell_type": "markdown",
      "source": [
        "#Esto es un subtitulo\n"
      ],
      "metadata": {
        "id": "lDySOAcDVo3Z"
      }
    },
    {
      "cell_type": "markdown",
      "source": [],
      "metadata": {
        "id": "24Q3sCfnVs7_"
      }
    },
    {
      "cell_type": "code",
      "execution_count": 1,
      "metadata": {
        "colab": {
          "base_uri": "https://localhost:8080/"
        },
        "id": "J5nSMMA3UM2-",
        "outputId": "d99516b0-d1db-47f3-e070-3e2ce527f048"
      },
      "outputs": [
        {
          "output_type": "stream",
          "name": "stdout",
          "text": [
            "hola,mundo\n"
          ]
        }
      ],
      "source": [
        "print(\"hola,mundo\")\n",
        "\n",
        "()\n"
      ]
    },
    {
      "cell_type": "code",
      "source": [],
      "metadata": {
        "id": "R3897mIeU7JX"
      },
      "execution_count": null,
      "outputs": []
    }
  ]
}